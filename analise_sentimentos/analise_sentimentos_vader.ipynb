{
  "nbformat": 4,
  "nbformat_minor": 0,
  "metadata": {
    "colab": {
      "provenance": [],
      "authorship_tag": "ABX9TyPZYXIpzRdmV7mN55/ap8U6",
      "include_colab_link": true
    },
    "kernelspec": {
      "name": "python3",
      "display_name": "Python 3"
    },
    "language_info": {
      "name": "python"
    }
  },
  "cells": [
    {
      "cell_type": "markdown",
      "metadata": {
        "id": "view-in-github",
        "colab_type": "text"
      },
      "source": [
        "<a href=\"https://colab.research.google.com/github/grasarti/colab-ai-journey/blob/main/analise_sentimentos/analise_sentimentos_vader.ipynb\" target=\"_parent\"><img src=\"https://colab.research.google.com/assets/colab-badge.svg\" alt=\"Open In Colab\"/></a>"
      ]
    },
    {
      "cell_type": "code",
      "execution_count": null,
      "metadata": {
        "colab": {
          "base_uri": "https://localhost:8080/"
        },
        "id": "YqaESx8h-dNG",
        "outputId": "4b171f4c-dd8b-4b6c-a4d5-85605e2e643e"
      },
      "outputs": [
        {
          "output_type": "stream",
          "name": "stdout",
          "text": [
            "Requirement already satisfied: textblob in /usr/local/lib/python3.11/dist-packages (0.19.0)\n",
            "Requirement already satisfied: nltk>=3.9 in /usr/local/lib/python3.11/dist-packages (from textblob) (3.9.1)\n",
            "Requirement already satisfied: click in /usr/local/lib/python3.11/dist-packages (from nltk>=3.9->textblob) (8.1.8)\n",
            "Requirement already satisfied: joblib in /usr/local/lib/python3.11/dist-packages (from nltk>=3.9->textblob) (1.4.2)\n",
            "Requirement already satisfied: regex>=2021.8.3 in /usr/local/lib/python3.11/dist-packages (from nltk>=3.9->textblob) (2024.11.6)\n",
            "Requirement already satisfied: tqdm in /usr/local/lib/python3.11/dist-packages (from nltk>=3.9->textblob) (4.67.1)\n",
            "✅ Bibliotecas instaladas e importadas!\n"
          ]
        }
      ],
      "source": [
        "# @title 📚 Instalação e Importações\n",
        "!pip install textblob\n",
        "from textblob import TextBlob\n",
        "import matplotlib.pyplot as plt\n",
        "import matplotlib.colors as mcolors\n",
        "import numpy as np\n",
        "\n",
        "print(\"✅ Bibliotecas instaladas e importadas!\")"
      ]
    },
    {
      "cell_type": "code",
      "source": [
        "# @title 🌟 Função Colorida de Análise\n",
        "def analisar_sentimento(frase):\n",
        "    # Análise com TextBlob\n",
        "    analise = TextBlob(frase)\n",
        "    polaridade = analise.sentiment.polarity\n",
        "\n",
        "    # Escolha da cor baseada no sentimento\n",
        "    if polaridade > 0.1:  # Mudança do limite para 0.1\n",
        "        cor = '🟢'  # Positivo - Verde\n",
        "        nome_sentimento = \"POSITIVO 😊\"\n",
        "        rgb = (0, 1, 0)  # Verde\n",
        "    elif polaridade < -0.1:  # Mudança do limite para -0.1\n",
        "        cor = '🔴'  # Negativo - Vermelho\n",
        "        nome_sentimento = \"NEGATIVO 😠\"\n",
        "        rgb = (1, 0, 0)  # Vermelho\n",
        "    else:\n",
        "        cor = '🟡'  # Neutro - Amarelo\n",
        "        nome_sentimento = \"NEUTRO 😐\"\n",
        "        rgb = (1, 1, 0)  # Amarelo\n",
        "\n",
        "    # Criando figura colorida\n",
        "    plt.figure(figsize=(10, 2))\n",
        "    plt.fill_between([0, 1], 0, 1, color=rgb, alpha=0.3)\n",
        "    plt.text(0.5, 0.5, f'\"{frase}\"\\n\\nSentimento: {nome_sentimento}\\nPolaridade: {polaridade:.2f}',\n",
        "             ha='center', va='center', fontsize=12)\n",
        "    plt.axis('off')\n",
        "    plt.show()\n",
        "\n",
        "    return polaridade\n",
        "\n",
        "# @title ✍️ Teste com Suas Próprias Frases\n",
        "sua_frase = input(\"Digite uma frase para análise: \")\n",
        "analisar_sentimento(sua_frase)\n"
      ],
      "metadata": {
        "colab": {
          "base_uri": "https://localhost:8080/",
          "height": 339
        },
        "id": "rB8Mi3PC-qoK",
        "outputId": "72ee4962-1a8b-444f-8844-41e87551b965"
      },
      "execution_count": null,
      "outputs": [
        {
          "output_type": "error",
          "ename": "KeyboardInterrupt",
          "evalue": "Interrupted by user",
          "traceback": [
            "\u001b[0;31m---------------------------------------------------------------------------\u001b[0m",
            "\u001b[0;31mKeyboardInterrupt\u001b[0m                         Traceback (most recent call last)",
            "\u001b[0;32m<ipython-input-3-57ce04a49dc2>\u001b[0m in \u001b[0;36m<cell line: 0>\u001b[0;34m()\u001b[0m\n\u001b[1;32m     30\u001b[0m \u001b[0;34m\u001b[0m\u001b[0m\n\u001b[1;32m     31\u001b[0m \u001b[0;31m# @title ✍️ Teste com Suas Próprias Frases\u001b[0m\u001b[0;34m\u001b[0m\u001b[0;34m\u001b[0m\u001b[0m\n\u001b[0;32m---> 32\u001b[0;31m \u001b[0msua_frase\u001b[0m \u001b[0;34m=\u001b[0m \u001b[0minput\u001b[0m\u001b[0;34m(\u001b[0m\u001b[0;34m\"Digite uma frase para análise: \"\u001b[0m\u001b[0;34m)\u001b[0m\u001b[0;34m\u001b[0m\u001b[0;34m\u001b[0m\u001b[0m\n\u001b[0m\u001b[1;32m     33\u001b[0m \u001b[0manalisar_sentimento\u001b[0m\u001b[0;34m(\u001b[0m\u001b[0msua_frase\u001b[0m\u001b[0;34m)\u001b[0m\u001b[0;34m\u001b[0m\u001b[0;34m\u001b[0m\u001b[0m\n",
            "\u001b[0;32m/usr/local/lib/python3.11/dist-packages/ipykernel/kernelbase.py\u001b[0m in \u001b[0;36mraw_input\u001b[0;34m(self, prompt)\u001b[0m\n\u001b[1;32m   1175\u001b[0m                 \u001b[0;34m\"raw_input was called, but this frontend does not support input requests.\"\u001b[0m\u001b[0;34m\u001b[0m\u001b[0;34m\u001b[0m\u001b[0m\n\u001b[1;32m   1176\u001b[0m             )\n\u001b[0;32m-> 1177\u001b[0;31m         return self._input_request(\n\u001b[0m\u001b[1;32m   1178\u001b[0m             \u001b[0mstr\u001b[0m\u001b[0;34m(\u001b[0m\u001b[0mprompt\u001b[0m\u001b[0;34m)\u001b[0m\u001b[0;34m,\u001b[0m\u001b[0;34m\u001b[0m\u001b[0;34m\u001b[0m\u001b[0m\n\u001b[1;32m   1179\u001b[0m             \u001b[0mself\u001b[0m\u001b[0;34m.\u001b[0m\u001b[0m_parent_ident\u001b[0m\u001b[0;34m[\u001b[0m\u001b[0;34m\"shell\"\u001b[0m\u001b[0;34m]\u001b[0m\u001b[0;34m,\u001b[0m\u001b[0;34m\u001b[0m\u001b[0;34m\u001b[0m\u001b[0m\n",
            "\u001b[0;32m/usr/local/lib/python3.11/dist-packages/ipykernel/kernelbase.py\u001b[0m in \u001b[0;36m_input_request\u001b[0;34m(self, prompt, ident, parent, password)\u001b[0m\n\u001b[1;32m   1217\u001b[0m             \u001b[0;32mexcept\u001b[0m \u001b[0mKeyboardInterrupt\u001b[0m\u001b[0;34m:\u001b[0m\u001b[0;34m\u001b[0m\u001b[0;34m\u001b[0m\u001b[0m\n\u001b[1;32m   1218\u001b[0m                 \u001b[0;31m# re-raise KeyboardInterrupt, to truncate traceback\u001b[0m\u001b[0;34m\u001b[0m\u001b[0;34m\u001b[0m\u001b[0m\n\u001b[0;32m-> 1219\u001b[0;31m                 \u001b[0;32mraise\u001b[0m \u001b[0mKeyboardInterrupt\u001b[0m\u001b[0;34m(\u001b[0m\u001b[0;34m\"Interrupted by user\"\u001b[0m\u001b[0;34m)\u001b[0m \u001b[0;32mfrom\u001b[0m \u001b[0;32mNone\u001b[0m\u001b[0;34m\u001b[0m\u001b[0;34m\u001b[0m\u001b[0m\n\u001b[0m\u001b[1;32m   1220\u001b[0m             \u001b[0;32mexcept\u001b[0m \u001b[0mException\u001b[0m\u001b[0;34m:\u001b[0m\u001b[0;34m\u001b[0m\u001b[0;34m\u001b[0m\u001b[0m\n\u001b[1;32m   1221\u001b[0m                 \u001b[0mself\u001b[0m\u001b[0;34m.\u001b[0m\u001b[0mlog\u001b[0m\u001b[0;34m.\u001b[0m\u001b[0mwarning\u001b[0m\u001b[0;34m(\u001b[0m\u001b[0;34m\"Invalid Message:\"\u001b[0m\u001b[0;34m,\u001b[0m \u001b[0mexc_info\u001b[0m\u001b[0;34m=\u001b[0m\u001b[0;32mTrue\u001b[0m\u001b[0;34m)\u001b[0m\u001b[0;34m\u001b[0m\u001b[0;34m\u001b[0m\u001b[0m\n",
            "\u001b[0;31mKeyboardInterrupt\u001b[0m: Interrupted by user"
          ]
        }
      ]
    },
    {
      "cell_type": "code",
      "source": [
        "!pip install nltk\n",
        "import nltk\n",
        "nltk.download('vader_lexicon')\n"
      ],
      "metadata": {
        "colab": {
          "base_uri": "https://localhost:8080/"
        },
        "id": "1EZgRuUw_J5J",
        "outputId": "e3f1527f-96a6-4b1d-a8cd-0d6751e5ceff"
      },
      "execution_count": null,
      "outputs": [
        {
          "output_type": "stream",
          "name": "stdout",
          "text": [
            "Requirement already satisfied: nltk in /usr/local/lib/python3.11/dist-packages (3.9.1)\n",
            "Requirement already satisfied: click in /usr/local/lib/python3.11/dist-packages (from nltk) (8.1.8)\n",
            "Requirement already satisfied: joblib in /usr/local/lib/python3.11/dist-packages (from nltk) (1.4.2)\n",
            "Requirement already satisfied: regex>=2021.8.3 in /usr/local/lib/python3.11/dist-packages (from nltk) (2024.11.6)\n",
            "Requirement already satisfied: tqdm in /usr/local/lib/python3.11/dist-packages (from nltk) (4.67.1)\n"
          ]
        },
        {
          "output_type": "stream",
          "name": "stderr",
          "text": [
            "[nltk_data] Downloading package vader_lexicon to /root/nltk_data...\n",
            "[nltk_data]   Package vader_lexicon is already up-to-date!\n"
          ]
        },
        {
          "output_type": "execute_result",
          "data": {
            "text/plain": [
              "True"
            ]
          },
          "metadata": {},
          "execution_count": 5
        }
      ]
    },
    {
      "cell_type": "code",
      "source": [
        "import matplotlib.pyplot as plt\n",
        "from nltk.sentiment.vader import SentimentIntensityAnalyzer\n",
        "\n",
        "# Inicializa o analisador VADER\n",
        "sid = SentimentIntensityAnalyzer()\n",
        "\n",
        "# Função de Análise de Sentimentos usando VADER\n",
        "def analisar_sentimento_vader(frase):\n",
        "    # Analisando a polaridade da frase com VADER\n",
        "    sentiment = sid.polarity_scores(frase)\n",
        "    polaridade = sentiment['compound']  # O valor 'compound' é uma pontuação única\n",
        "\n",
        "    # Escolha da cor baseada no sentimento\n",
        "    if polaridade > 0.1:  # Mudança do limite para 0.1\n",
        "        cor = '🟢'  # Positivo - Verde\n",
        "        nome_sentimento = \"POSITIVO 😊\"\n",
        "        rgb = (0, 1, 0)  # Verde\n",
        "    elif polaridade < -0.1:  # Mudança do limite para -0.1\n",
        "        cor = '🔴'  # Negativo - Vermelho\n",
        "        nome_sentimento = \"NEGATIVO 😠\"\n",
        "        rgb = (1, 0, 0)  # Vermelho\n",
        "    else:\n",
        "        cor = '🟡'  # Neutro - Amarelo\n",
        "        nome_sentimento = \"NEUTRO 😐\"\n",
        "        rgb = (1, 1, 0)  # Amarelo\n",
        "\n",
        "    # Criando figura colorida\n",
        "    plt.figure(figsize=(10, 2))\n",
        "    plt.fill_between([0, 1], 0, 1, color=rgb, alpha=0.3)\n",
        "    plt.text(0.5, 0.5, f'\"{frase}\"\\n\\nSentimento: {nome_sentimento}\\nPolaridade: {polaridade:.2f}',\n",
        "             ha='center', va='center', fontsize=12)\n",
        "    plt.axis('off')\n",
        "    plt.show()\n",
        "\n",
        "    return polaridade\n",
        "\n",
        "# @title ✍️ Teste com Suas Próprias Frases\n",
        "sua_frase = input(\"Digite uma frase para análise: \")\n",
        "analisar_sentimento_vader(sua_frase)\n"
      ],
      "metadata": {
        "colab": {
          "base_uri": "https://localhost:8080/",
          "height": 226
        },
        "id": "bdugZdpN_RsQ",
        "outputId": "54e7f599-7904-4585-b87f-78ae7f6bcdf9"
      },
      "execution_count": null,
      "outputs": [
        {
          "name": "stdout",
          "output_type": "stream",
          "text": [
            "Digite uma frase para análise: I’ll check the email tomorrow.\n"
          ]
        },
        {
          "output_type": "display_data",
          "data": {
            "text/plain": [
              "<Figure size 1000x200 with 1 Axes>"
            ],
            "image/png": "[encoded data removed]"
          },
          "metadata": {}
        },
        {
          "output_type": "execute_result",
          "data": {
            "text/plain": [
              "0.0"
            ]
          },
          "metadata": {},
          "execution_count": 13
        }
      ]
    },
    {
      "cell_type": "markdown",
      "source": [
        "Análise de Sentimentos com o Modelo VADER\n",
        "\n",
        "Neste notebook, estamos utilizando o modelo VADER (Valence Aware Dictionary and sEntiment Reasoner) para realizar a análise de sentimentos em frases fornecidas pelo usuário. O modelo VADER é altamente eficaz para identificar o sentimento (positivo, negativo ou neutro) em textos curtos, como os encontrados em redes sociais ou comentários, e pode considerar aspectos como emojis e expressões informais.\n",
        "\n",
        "A seguir, são apresentados exemplos de frases em inglês que serão utilizadas para testar o modelo. As frases estão divididas em três categorias principais: positivas, negativas e neutras. O modelo deverá identificar corretamente o sentimento associado a cada uma delas:\n",
        "\n",
        "Frases Positivas:\n",
        "\"I absolutely love this new movie!\"\n",
        "\n",
        "\"The weather is amazing today.\"\n",
        "\n",
        "\"I'm so happy with the results of my project!\"\n",
        "\n",
        "\"This is the best pizza I’ve ever had.\"\n",
        "\n",
        "\"I can't wait for the weekend to relax.\"\n",
        "\n",
        "Frases Negativas:\n",
        "\"I hate waiting in long lines.\"\n",
        "\n",
        "\"This is the worst service I’ve ever received.\"\n",
        "\n",
        "\"I’m feeling really disappointed with my performance.\"\n",
        "\n",
        "\"My phone broke and now I can’t do anything.\"\n",
        "\n",
        "\"This meeting is taking too long, I’m getting frustrated.\"\n",
        "\n",
        "Frases Neutras:\n",
        "\"I’m going to the store later.\"\n",
        "\n",
        "\"The book is on the table.\"\n",
        "\n",
        "\"I have a meeting at 3 PM.\"\n",
        "\n",
        "\"I’ll check the email tomorrow.\"\n",
        "\n",
        "\"My laptop is charging right now.\"\n",
        "\n",
        "O modelo analisará a polaridade de cada uma dessas frases e classificará o sentimento de acordo com os seguintes critérios:\n",
        "\n",
        "POSITIVO: Quando a polaridade for maior que 0.1.\n",
        "\n",
        "NEGATIVO: Quando a polaridade for menor que -0.1.\n",
        "\n",
        "NEUTRO: Quando a polaridade estiver entre -0.1 e 0.1.\n",
        "\n",
        "Agora, insira uma frase para análise, e o modelo irá classificar o sentimento da frase e exibir uma representação visual colorida, indicando se o sentimento é positivo, negativo ou neutro."
      ],
      "metadata": {
        "id": "FQ9SY_4jB1io"
      }
    }
  ]
}